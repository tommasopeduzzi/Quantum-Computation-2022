{
 "cells": [
  {
   "cell_type": "code",
   "execution_count": 1,
   "id": "296c2c27-7b99-4828-8b4a-4b36c46a59b7",
   "metadata": {},
   "outputs": [],
   "source": [
    "from qiskit import *\n",
    "svsim = Aer.get_backend('aer_simulator')\n",
    "from qiskit.visualization import array_to_latex, circuit_drawer"
   ]
  },
  {
   "cell_type": "code",
   "execution_count": 2,
   "id": "0a6324e5-33ef-4b5a-ac3c-c95c9ed02130",
   "metadata": {},
   "outputs": [
    {
     "data": {
      "text/html": [
       "<pre style=\"word-wrap: normal;white-space: pre;background: #fff0;line-height: 1.1;font-family: &quot;Courier New&quot;,Courier,monospace\">     ┌───┐┌───┐\n",
       "q_0: ┤ H ├┤ Z ├\n",
       "     └───┘└───┘\n",
       "q_1: ──────────\n",
       "     ┌───┐     \n",
       "q_2: ┤ X ├─────\n",
       "     └───┘     </pre>"
      ],
      "text/plain": [
       "     ┌───┐┌───┐\n",
       "q_0: ┤ H ├┤ Z ├\n",
       "     └───┘└───┘\n",
       "q_1: ──────────\n",
       "     ┌───┐     \n",
       "q_2: ┤ X ├─────\n",
       "     └───┘     "
      ]
     },
     "execution_count": 2,
     "metadata": {},
     "output_type": "execute_result"
    }
   ],
   "source": [
    "qc = QuantumCircuit(3)\n",
    "cr = ClassicalRegister(2)\n",
    "# Apply H-gate to the first:\n",
    "qc.h(0)\n",
    "qc.z(0)\n",
    "qc.x(2)\n",
    "# Apply a CNOT:\n",
    "qc.draw()"
   ]
  },
  {
   "cell_type": "code",
   "execution_count": 3,
   "id": "1e56056c-6fbc-44a9-a37f-1a0bd9861dfa",
   "metadata": {},
   "outputs": [
    {
     "data": {
      "text/html": [
       "<pre style=\"word-wrap: normal;white-space: pre;background: #fff0;line-height: 1.1;font-family: &quot;Courier New&quot;,Courier,monospace\">     ┌───┐┌───┐          \n",
       "q_0: ┤ H ├┤ Z ├──■───────\n",
       "     └───┘└───┘┌─┴─┐     \n",
       "q_1: ──────────┤ X ├──■──\n",
       "     ┌───┐     └───┘┌─┴─┐\n",
       "q_2: ┤ X ├──────────┤ X ├\n",
       "     └───┘          └───┘</pre>"
      ],
      "text/plain": [
       "     ┌───┐┌───┐          \n",
       "q_0: ┤ H ├┤ Z ├──■───────\n",
       "     └───┘└───┘┌─┴─┐     \n",
       "q_1: ──────────┤ X ├──■──\n",
       "     ┌───┐     └───┘┌─┴─┐\n",
       "q_2: ┤ X ├──────────┤ X ├\n",
       "     └───┘          └───┘"
      ]
     },
     "execution_count": 3,
     "metadata": {},
     "output_type": "execute_result"
    }
   ],
   "source": [
    "qc.cx(0,1)\n",
    "qc.cx(1,2)\n",
    "qc.draw()"
   ]
  },
  {
   "cell_type": "code",
   "execution_count": 4,
   "id": "507d4734-27a6-405c-bbe3-3c75bda07bd6",
   "metadata": {},
   "outputs": [
    {
     "data": {
      "image/png": "[encoded data removed]",
      "text/plain": [
       "<Figure size 447.797x204.68 with 1 Axes>"
      ]
     },
     "execution_count": 4,
     "metadata": {},
     "output_type": "execute_result"
    }
   ],
   "source": [
    "qc.cx(0,1)\n",
    "qc.h([0,2])\n",
    "qc.draw(output='mpl', style={'backgroundcolor': '#EEEEEE'})"
   ]
  },
  {
   "cell_type": "code",
   "execution_count": 22,
   "id": "6f2a534a-cf78-41d1-876e-24c348e59da0",
   "metadata": {},
   "outputs": [
    {
     "data": {
      "text/latex": [
       "$$\n",
       "\\text{Statevector = }\n",
       "\\begin{bmatrix}\n",
       "0 & \\tfrac{1}{\\sqrt{2}} & 0 & 0 & -\\tfrac{1}{\\sqrt{2}} & 0 & 0 & 0  \\\\\n",
       " \\end{bmatrix}\n",
       "$$"
      ],
      "text/plain": [
       "<IPython.core.display.Latex object>"
      ]
     },
     "execution_count": 22,
     "metadata": {},
     "output_type": "execute_result"
    }
   ],
   "source": [
    "# Let's get the result:\n",
    "qc.save_statevector()\n",
    "qobj = assemble(qc)\n",
    "result = svsim.run(qobj).result()\n",
    "# Print the statevector neatly:\n",
    "final_state = result.get_statevector()\n",
    "array_to_latex(final_state, prefix=\"\\\\text{Statevector = }\")"
   ]
  },
  {
   "cell_type": "code",
   "execution_count": null,
   "id": "51d55229-a8d9-4347-a943-58bf762a3905",
   "metadata": {},
   "outputs": [],
   "source": []
  }
 ],
 "metadata": {
  "kernelspec": {
   "display_name": "Python 3 (ipykernel)",
   "language": "python",
   "name": "python3"
  },
  "language_info": {
   "codemirror_mode": {
    "name": "ipython",
    "version": 3
   },
   "file_extension": ".py",
   "mimetype": "text/x-python",
   "name": "python",
   "nbconvert_exporter": "python",
   "pygments_lexer": "ipython3",
   "version": "3.10.4"
  },
  "latex_envs": {
   "LaTeX_envs_menu_present": true,
   "autoclose": true,
   "autocomplete": true,
   "bibliofile": "biblio.bib",
   "cite_by": "apalike",
   "current_citInitial": 1,
   "eqLabelWithNumbers": true,
   "eqNumInitial": 1,
   "hotkeys": {
    "equation": "Ctrl-E",
    "itemize": "Ctrl-I"
   },
   "labels_anchors": false,
   "latex_user_defs": false,
   "report_style_numbering": false,
   "user_envs_cfg": false
  }
 },
 "nbformat": 4,
 "nbformat_minor": 5
}
