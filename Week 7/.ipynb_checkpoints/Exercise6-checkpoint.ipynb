{
 "cells": [
  {
   "cell_type": "markdown",
   "metadata": {
    "colab_type": "text",
    "id": "pmm5uV8cQQN6"
   },
   "source": [
    "# Exercise 6\n",
    "\n",
    "\n",
    "## 1\n",
    "Show that the Hadamard gate can be written in the following two forms\n",
    "\n",
    "$$H = \\frac{X+Z}{\\sqrt{2}} \\sim \\exp\\left(i \\frac{\\pi}{2} \\, \\frac{X+Z}{\\sqrt{2}}\\right).$$\n",
    "\n",
    "Here $\\sim$ is used to denote that the equality is valid up to a global phase, and hence that the resulting gates are physically equivalent.\n",
    "\n",
    "Hint: it might even be easiest to prove that $e^{i\\frac{\\pi}{2} M} \\sim M$ for any matrix whose eigenvalues are all $\\pm 1$, and that such matrices uniquely satisfy $M^2=I$."
   ]
  },
  {
   "cell_type": "markdown",
   "metadata": {},
   "source": [
    "$$\\frac{X+Z}{\\sqrt2} = \\frac1{\\sqrt2}\\left(\\begin{pmatrix}0&&1\\\\1&&0\\end{pmatrix}+\\begin{pmatrix}1&&0\\\\0&&-1\\end{pmatrix}\\right)=\\frac1{\\sqrt2}\\begin{pmatrix}1&&1\\\\1&&-1\\end{pmatrix}=H$$\n",
    "Because $\\frac{X+Z}{\\sqrt2} = H$ and $H² = \\mathbb{I}$: $$\\exp\\left(i \\frac{\\pi}{2} \\, \\frac{X+Z}{\\sqrt{2}}\\right) = \\cos(\\frac\\pi 2) + i \\sin(\\frac\\pi 2)\\frac{X+Z}{\\sqrt{2}} = iH \\sim H$$"
   ]
  },
  {
   "cell_type": "markdown",
   "metadata": {
    "colab_type": "text",
    "id": "CJyxxSDUQQN9",
    "tags": []
   },
   "source": [
    "## 2\n",
    "\n",
    "The Hadamard can be constructed from `rx` and `rz` operations as\n",
    "\n",
    "$$ R_x(\\theta) = e^{i\\frac{\\theta}{2} X}, ~~~ R_z(\\theta) = e^{i\\frac{\\theta}{2} Z},\\\\ H \\equiv \\lim_{n\\rightarrow\\infty} \\left( ~R_x\\left(\\frac{\\theta}{n}\\right) ~~R_z \\left(\\frac{\\theta}{n}\\right) ~\\right)^n.$$\n",
    "\n",
    "For some suitably chosen $\\theta$. When implemented for finite $n$, the resulting gate will be an approximation to the Hadamard whose error decreases with $n$.\n",
    "\n",
    "The following shows an example of this implemented with Qiskit with an incorrectly chosen value of $\\theta$ (and with the global phase ignored).\n",
    "\n",
    "* Determine the correct value of $\\theta$.\n",
    "\n",
    "* Show that the error (when using the correct value of $\\theta$) decreases quadratically with $n$."
   ]
  },
  {
   "cell_type": "markdown",
   "metadata": {},
   "source": [
    "a) Because of Trotter-Suzuki-Method: $$  H \\equiv \\lim_{n\\rightarrow\\infty} \\left( ~R_x\\left(\\frac{\\theta}{n}\\right) ~~R_z \\left(\\frac{\\theta}{n}\\right) ~\\right)^n = e^{i \\frac{\\theta}2 (X+Z)}$$\n",
    "Therefore we have to find a $\\theta$ such that: $$e^{i \\frac{\\theta}2 (X+Z)} = e^{i \\frac\\pi2\\frac{X+Z}{\\sqrt2}}$$\n",
    "Using elementary transformations we conclude: $$\\theta = \\frac\\pi{\\sqrt2}$$"
   ]
  },
  {
   "cell_type": "code",
   "execution_count": 1,
   "metadata": {},
   "outputs": [],
   "source": [
    "from qiskit import *\n",
    "from qiskit.tools.visualization import plot_histogram\n",
    "import numpy as np"
   ]
  },
  {
   "cell_type": "code",
   "execution_count": 2,
   "metadata": {
    "colab": {},
    "colab_type": "code",
    "id": "4yqeQMlZQQN_"
   },
   "outputs": [
    {
     "data": {
      "image/png": "[encoded data removed]",
      "text/plain": [
       "<Figure size 504x360 with 1 Axes>"
      ]
     },
     "execution_count": 2,
     "metadata": {},
     "output_type": "execute_result"
    }
   ],
   "source": [
    "q = QuantumRegister(1)\n",
    "c = ClassicalRegister(1)\n",
    "\n",
    "error = {}\n",
    "for n in range(1,11):\n",
    "\n",
    "    # Create a blank circuit\n",
    "    qc = QuantumCircuit(q,c)\n",
    "    \n",
    "    # Implement an approximate Hadamard\n",
    "    theta = np.pi/np.sqrt(2)\n",
    "    for j in range(n):\n",
    "        qc.rx(theta/n,q[0])\n",
    "        qc.rz(theta/n,q[0])\n",
    "      \n",
    "    # We need to measure how good the above approximation is. Here's a simple way to do this.\n",
    "    # Step 1: Use a real hadamard to cancel the above approximation.\n",
    "    # For a good approximatuon, the qubit will return to state 0. For a bad one, it will end up as some superposition.\n",
    "    qc.h(q[0])\n",
    "    \n",
    "    # Step 2: Run the circuit, and see how many times we get the outcome 1.\n",
    "    # Since it should return 0 with certainty, the fraction of 1s is a measure of the error.\n",
    "    qc.measure(q,c)\n",
    "    shots = 20000\n",
    "    job = execute(qc, Aer.get_backend('qasm_simulator'),shots=shots)\n",
    "    try:\n",
    "        error[n] = (job.result().get_counts()['1']/shots)\n",
    "    except:\n",
    "        pass\n",
    "\n",
    "plot_histogram(error)"
   ]
  },
  {
   "cell_type": "code",
   "execution_count": 3,
   "metadata": {},
   "outputs": [
    {
     "data": {
      "image/png": "[encoded data removed]",
      "text/plain": [
       "<Figure size 432x288 with 1 Axes>"
      ]
     },
     "metadata": {
      "needs_background": "light"
     },
     "output_type": "display_data"
    }
   ],
   "source": [
    "import matplotlib.pyplot as plt\n",
    "\n",
    "y =np.array([np.log(x) for x in error.values()])\n",
    "\n",
    "x = np.array([np.log(x) for x in range(1, len(error)+1)])\n",
    "\n",
    "fig = plt.figure()\n",
    "plt.plot(x,y, 'r')\n",
    "plt.show()"
   ]
  },
  {
   "cell_type": "code",
   "execution_count": 4,
   "metadata": {},
   "outputs": [
    {
     "name": "stdout",
     "output_type": "stream",
     "text": [
      "R²  = 0.9964541308355921\n",
      "slope: [-1.83771303]\n"
     ]
    }
   ],
   "source": [
    "from sklearn.linear_model import LinearRegression\n",
    "x = x.reshape((-1,1))\n",
    "regression = LinearRegression().fit(x,y)\n",
    "print(\"R²  =\", regression.score(x,y)) # Could this be used to measure the error on a QC, as it should theoretically be linear?\n",
    "slope = regression.coef_\n",
    "print('slope:', slope)"
   ]
  },
  {
   "cell_type": "code",
   "execution_count": 5,
   "metadata": {},
   "outputs": [
    {
     "data": {
      "text/markdown": [
       "As we know that the error scales in a Trotter-Suzuki-Approximation scales polynomially to the number of repetions, we can find the exponent by plotting the $\\log(\\text{error})$ vs. $\\log({n})$ and calculating the slope to being $-1.837713e+00$, we can quite safely assume, that $\\text{error} \\propto{n^{-1.838}}$"
      ],
      "text/plain": [
       "<IPython.core.display.Markdown object>"
      ]
     },
     "execution_count": 5,
     "metadata": {},
     "output_type": "execute_result"
    }
   ],
   "source": [
    "from IPython.display import Markdown as md\n",
    "\n",
    "md(\"As we know that the error scales in a Trotter-Suzuki-Approximation scales polynomially to the number of repetions, we can find the exponent by plotting the $\\\\log(\\\\text{error})$ vs. $\\\\log({n})$ and calculating the slope to being $%e$, we can quite safely assume, that $\\\\text{error} \\propto{n^{%s}}$\"%(slope,round(slope[0],3)))"
   ]
  },
  {
   "cell_type": "markdown",
   "metadata": {
    "colab_type": "text",
    "id": "Yr5vuU_eQQOU"
   },
   "source": [
    "## 3\n",
    "\n",
    "An improved version of the approximation can be found from,\n",
    "\n",
    "$$H \\equiv \\lim_{n\\rightarrow\\infty} \\left( ~ R_z \\left(\\frac{\\theta}{2n}\\right)~~ R_x\\left(\\frac{\\theta}{n}\\right) ~~ R_z \\left(\\frac{\\theta}{2n}\\right) ~\\right)^n.$$\n",
    "\n",
    "Implement this, and investigate the scaling of the error."
   ]
  },
  {
   "cell_type": "code",
   "execution_count": 6,
   "metadata": {},
   "outputs": [
    {
     "data": {
      "image/png": "[encoded data removed]",
      "text/plain": [
       "<Figure size 504x360 with 1 Axes>"
      ]
     },
     "execution_count": 6,
     "metadata": {},
     "output_type": "execute_result"
    }
   ],
   "source": [
    "q = QuantumRegister(1)\n",
    "c = ClassicalRegister(1)\n",
    "\n",
    "error = {}\n",
    "for n in range(1,11):\n",
    "\n",
    "    # Create a blank circuit\n",
    "    qc = QuantumCircuit(q,c)\n",
    "    \n",
    "    # Implement an approximate Hadamard\n",
    "    theta = np.pi/np.sqrt(2)\n",
    "    for j in range(n):\n",
    "        qc.rz(theta/(2*n),q[0])\n",
    "        qc.rx(theta/n,q[0])\n",
    "        qc.rz(theta/(2*n),q[0])\n",
    "      \n",
    "    # We need to measure how good the above approximation is. Here's a simple way to do this.\n",
    "    # Step 1: Use a real hadamard to cancel the above approximation.\n",
    "    # For a good approximatuon, the qubit will return to state 0. For a bad one, it will end up as some superposition.\n",
    "    qc.h(q[0])\n",
    "    \n",
    "    # Step 2: Run the circuit, and see how many times we get the outcome 1.\n",
    "    # Since it should return 0 with certainty, the fraction of 1s is a measure of the error.\n",
    "    qc.measure(q,c)\n",
    "    shots = 20000\n",
    "    job = execute(qc, Aer.get_backend('qasm_simulator'),shots=shots)\n",
    "    try:\n",
    "        error[n] = (job.result().get_counts()['1']/shots)\n",
    "    except:\n",
    "        pass\n",
    "        \n",
    "plot_histogram(error)"
   ]
  },
  {
   "cell_type": "code",
   "execution_count": 7,
   "metadata": {},
   "outputs": [
    {
     "data": {
      "image/png": "[encoded data removed]",
      "text/plain": [
       "<Figure size 432x288 with 1 Axes>"
      ]
     },
     "metadata": {
      "needs_background": "light"
     },
     "output_type": "display_data"
    }
   ],
   "source": [
    "import matplotlib.pyplot as plt\n",
    "\n",
    "y =np.array([np.log(x) for x in error.values()])\n",
    "\n",
    "x = np.array([np.log(x) for x in range(1, len(error)+1)])\n",
    "\n",
    "fig = plt.figure()\n",
    "plt.plot(x,y, 'r')\n",
    "plt.show()"
   ]
  },
  {
   "cell_type": "code",
   "execution_count": 8,
   "metadata": {},
   "outputs": [
    {
     "name": "stdout",
     "output_type": "stream",
     "text": [
      "R²  = 0.9798577046311774\n",
      "slope: [-4.08217251]\n"
     ]
    }
   ],
   "source": [
    "from sklearn.linear_model import LinearRegression\n",
    "x = x.reshape((-1,1))\n",
    "regression = LinearRegression().fit(x,y)\n",
    "print(\"R²  =\", regression.score(x,y)) # Could this be used to measure the error on a QC, as it should theoretically be linear?\n",
    "slope =  regression.coef_\n",
    "print('slope:', slope)"
   ]
  },
  {
   "cell_type": "code",
   "execution_count": 9,
   "metadata": {},
   "outputs": [
    {
     "data": {
      "text/markdown": [
       "As we know that the error scales in a Trotter-Suzuki-Approximation scales polynomially to the number of repetions, we can find the exponent by plotting the $\\log(\\text{error})$ vs. $\\log({n})$ and calculating the slope to being $-4.082173e+00$, we can quite safely assume, that $\\text{error} \\propto{n^{-4.082}}$"
      ],
      "text/plain": [
       "<IPython.core.display.Markdown object>"
      ]
     },
     "execution_count": 9,
     "metadata": {},
     "output_type": "execute_result"
    }
   ],
   "source": [
    "from IPython.display import Markdown as md\n",
    "\n",
    "md(\"As we know that the error scales in a Trotter-Suzuki-Approximation scales polynomially to the number of repetions, we can find the exponent by plotting the $\\\\log(\\\\text{error})$ vs. $\\\\log({n})$ and calculating the slope to being $%e$, we can quite safely assume, that $\\\\text{error} \\propto{n^{%s}}$\"%(slope,round(slope[0],3)))"
   ]
  },
  {
   "cell_type": "markdown",
   "metadata": {},
   "source": [
    "## 4\n",
    "\n",
    "Write a circuit to implement the following unitary with perfect precision, using only `rx`, `rz` and Clifford gates\n",
    "\n",
    "$$U = \\exp\\left[i \\frac{\\theta}{2} \\, \\left( X\\otimes X + Z\\otimes Z \\right) \\right].$$\n",
    "\n",
    "Apply this to the initial state $|10\\rangle$ and determine the final state for the following values of $\\theta$.\n",
    "\n",
    "* (a) $\\theta=\\pi/4 $\n",
    "* (b) $\\theta=\\pi/2 $\n",
    "* (c) $\\theta=\\pi $\n",
    "\n",
    "You can use the following as a starting point."
   ]
  },
  {
   "cell_type": "markdown",
   "metadata": {},
   "source": [
    "Because $(X \\otimes X$ and $(Z \\otimes Z)$ are commutative, so $(X \\otimes X)(Z \\otimes Z) =(Z \\otimes Z) (X \\otimes X)$: $$U = \\exp\\left[i \\frac{\\theta}{2} \\, \\left( X\\otimes X + Z\\otimes Z \\right) \\right] = \\exp \\left[i \\frac \\theta 2 X\\otimes X\\right] \\exp\\left[i \\frac \\theta 2 Z\\otimes Z\\right]$$\n",
    "\n",
    "Because $C_X (R_X(\\theta)\\otimes I) C_X = exp\\left[i \\frac\\theta 2 C_X  X \\otimes I C_X\\right] = \\exp \\left[i \\frac \\theta 2 X\\otimes X\\right]$: $$ U = \\exp \\left[i \\frac \\theta 2 X\\otimes X\\right] \\exp\\left[i \\frac \\theta 2 X\\otimes Z\\right] =C_X (R_X(\\theta)\\otimes I) C_X  \\exp\\left[i \\frac \\theta 2 Z\\otimes Z\\right]$$\n",
    "\n",
    "Becazse $C_X (R_X(\\theta) \\otimes I) C_X = \\exp \\left[i \\frac \\theta 2 X\\otimes X\\right]$ and  $(H \\otimes H) \\exp \\left[i \\frac \\theta 2 X\\otimes X\\right] (H \\otimes H) = \\exp \\left[i \\frac \\theta 2(H \\otimes H) (X\\otimes X) (H \\otimes H)\\right] = \\exp \\left[i \\frac \\theta 2 Z\\otimes Z\\right]$, so $\\exp \\left[i \\frac \\theta 2 Z\\otimes Z\\right] = (H \\otimes H)C_X(R_X\\otimes I) C_X(H \\otimes H)$:\n",
    "\n",
    "$$ U = C_X(R_X\\otimes I) C_X(H \\otimes H)C_X(R_X\\otimes I) C_X(H \\otimes H)$$\n"
   ]
  },
  {
   "cell_type": "code",
   "execution_count": 22,
   "metadata": {},
   "outputs": [],
   "source": [
    "from qiskit.visualization import array_to_latex, plot_bloch_multivector\n",
    "statevectors = []\n",
    "for i in range(2, -1, -1):\n",
    "    q = QuantumRegister(2)\n",
    "\n",
    "    theta = np.pi/(2**i)\n",
    "    # Create a blank circuit\n",
    "    qc = QuantumCircuit(q)\n",
    "\n",
    "    # prepare the |10> state\n",
    "    qc.x(1)\n",
    "\n",
    "    qc.cx(0,1)\n",
    "    qc.rx(theta,1)\n",
    "    qc.cx(0,1)\n",
    "    qc.h(0)\n",
    "    qc.h(1)\n",
    "    qc.cx(0,1)\n",
    "    qc.rx(theta, 1)\n",
    "    qc.cx(0,1)\n",
    "    qc.h(1)\n",
    "    qc.h(0)\n",
    "\n",
    "    # get the final statevector\n",
    "    job = Aer.get_backend('statevector_simulator').run(qc)\n",
    "    result = job.result()\n",
    "    statevectors.append(result.get_statevector()) "
   ]
  },
  {
   "cell_type": "code",
   "execution_count": 23,
   "metadata": {},
   "outputs": [
    {
     "data": {
      "text/latex": [
       "$$\n",
       "\\text{a) State with } \\theta = \\frac \\pi4 \\text{: }\n",
       "\\begin{bmatrix}\n",
       "-0.14645 - \\tfrac{1}{\\sqrt{8}}i & 0 & 0.85355 + \\tfrac{1}{\\sqrt{8}}i & 0  \\\\\n",
       " \\end{bmatrix}\n",
       "$$"
      ],
      "text/plain": [
       "<IPython.core.display.Latex object>"
      ]
     },
     "execution_count": 23,
     "metadata": {},
     "output_type": "execute_result"
    }
   ],
   "source": [
    "array_to_latex(statevectors[0], prefix=\"\\\\text{a) State with } \\\\theta = \\\\frac \\\\pi4 \\\\text{: }\")"
   ]
  },
  {
   "cell_type": "code",
   "execution_count": 24,
   "metadata": {},
   "outputs": [
    {
     "data": {
      "text/latex": [
       "$$\n",
       "\\text{b) State with } \\theta = \\frac \\pi2 \\text{: }\n",
       "\\begin{bmatrix}\n",
       "\\tfrac{1}{2}(-1 - i) & 0 & \\tfrac{1}{2}(1 + i) & 0  \\\\\n",
       " \\end{bmatrix}\n",
       "$$"
      ],
      "text/plain": [
       "<IPython.core.display.Latex object>"
      ]
     },
     "execution_count": 24,
     "metadata": {},
     "output_type": "execute_result"
    }
   ],
   "source": [
    "array_to_latex(statevectors[1], prefix=\"\\\\text{b) State with } \\\\theta = \\\\frac \\\\pi2 \\\\text{: }\")"
   ]
  },
  {
   "cell_type": "code",
   "execution_count": 25,
   "metadata": {},
   "outputs": [
    {
     "data": {
      "text/latex": [
       "$$\n",
       "\\text{c) State with } \\theta = \\pi \\text{: }\n",
       "\\begin{bmatrix}\n",
       "-1 & 0 & 0 & 0  \\\\\n",
       " \\end{bmatrix}\n",
       "$$"
      ],
      "text/plain": [
       "<IPython.core.display.Latex object>"
      ]
     },
     "execution_count": 25,
     "metadata": {},
     "output_type": "execute_result"
    }
   ],
   "source": [
    "array_to_latex(statevectors[2], prefix=\"\\\\text{c) State with } \\\\theta = \\\\pi \\\\text{: }\")"
   ]
  },
  {
   "cell_type": "markdown",
   "metadata": {},
   "source": [
    "Another idea that might work is that $e^{i \\frac\\theta2 P_0} \\otimes P_1 = e^{i \\frac\\theta2 P_0 \\otimes P_1}$ Therefore $$e^{i \\frac\\theta2 X \\otimes X} = e^{i \\frac\\theta2 X} \\otimes X = R_X(\\theta)\\otimes X$$ and $$e^{i \\frac\\theta2 Z \\otimes Z} = e^{i \\frac\\theta2 Z} \\otimes Z = R_Z(\\theta)\\otimes Z$$\n",
    "\n",
    "Applying this circuit does give slightly different results though:"
   ]
  },
  {
   "cell_type": "code",
   "execution_count": 14,
   "metadata": {},
   "outputs": [],
   "source": [
    "from qiskit.visualization import array_to_latex, plot_bloch_multivector\n",
    "theta = np.pi\n",
    "statevectors = []\n",
    "for i in range(2, -1, -1):\n",
    "    q = QuantumRegister(2)\n",
    "\n",
    "    # Create a blank circuit\n",
    "    qc = QuantumCircuit(q)\n",
    "\n",
    "    # prepare the |10> state\n",
    "    qc.x(1)\n",
    "\n",
    "    qc.rx(theta/(2**i), 0)\n",
    "    qc.x(1)\n",
    "    qc.rz(theta/(2**i), 0)\n",
    "    qc.z(1)\n",
    "\n",
    "    # get the final statevector\n",
    "    job = Aer.get_backend('statevector_simulator').run(qc)\n",
    "    result = job.result()\n",
    "    statevectors.append(result.get_statevector()) "
   ]
  },
  {
   "cell_type": "code",
   "execution_count": 15,
   "metadata": {},
   "outputs": [
    {
     "data": {
      "text/latex": [
       "$$\n",
       "\n",
       "\\begin{bmatrix}\n",
       "0.85355 - \\tfrac{1}{\\sqrt{8}}i & 0.14645 - \\tfrac{1}{\\sqrt{8}}i & 0 & 0  \\\\\n",
       " \\end{bmatrix}\n",
       "$$"
      ],
      "text/plain": [
       "<IPython.core.display.Latex object>"
      ]
     },
     "execution_count": 15,
     "metadata": {},
     "output_type": "execute_result"
    }
   ],
   "source": [
    "array_to_latex(statevectors[0])"
   ]
  },
  {
   "cell_type": "code",
   "execution_count": 16,
   "metadata": {},
   "outputs": [
    {
     "data": {
      "text/latex": [
       "$$\n",
       "\n",
       "\\begin{bmatrix}\n",
       "\\tfrac{1}{2}(1 - i) & \\tfrac{1}{2}(1 - i) & 0 & 0  \\\\\n",
       " \\end{bmatrix}\n",
       "$$"
      ],
      "text/plain": [
       "<IPython.core.display.Latex object>"
      ]
     },
     "execution_count": 16,
     "metadata": {},
     "output_type": "execute_result"
    }
   ],
   "source": [
    "array_to_latex(statevectors[1])"
   ]
  },
  {
   "cell_type": "code",
   "execution_count": 17,
   "metadata": {},
   "outputs": [
    {
     "data": {
      "text/latex": [
       "$$\n",
       "\n",
       "\\begin{bmatrix}\n",
       "0 & 1 & 0 & 0  \\\\\n",
       " \\end{bmatrix}\n",
       "$$"
      ],
      "text/plain": [
       "<IPython.core.display.Latex object>"
      ]
     },
     "execution_count": 17,
     "metadata": {},
     "output_type": "execute_result"
    }
   ],
   "source": [
    "array_to_latex(statevectors[2])"
   ]
  },
  {
   "cell_type": "markdown",
   "metadata": {
    "colab": {},
    "colab_type": "code",
    "id": "TeQnxYGDQ2ro"
   },
   "source": [
    "## 5. Effects of garbage in quantum circuits\n",
    "\n",
    "The CX gate performs the mapping \n",
    "$(i,j) \\rightarrow (i,i+j \\mod 2)$ from an input on two bits to an output on two bits.\n",
    "\n",
    "It is interesting to note (though not relevant to the problem) that this mapping is not of the form $(z,0) \\rightarrow (z,f(z))$, as considered last week, since the function $f(i,j) = i+j \\mod 2$ does not require the whole input to be present for reversibility.\n",
    "\n",
    "Here are two circuits with a CX gate.\n",
    "\n",
    "![](circuits.png)\n",
    "\n",
    "* (a) The first circuit is composed of both a quantum part and an irreversible classical part. Determine the final output bit .\n",
    "\n",
    "* (b) Show that the second circuit effectively acts as a CX between the first and third qubits, but with the additional effect of producting a garbage qubit on the second.\n",
    "\n",
    "* (c) Replace the true CX in the first circuit with the garbage producing one from the second. Show that this changes the output bit.\n",
    "\n",
    "* (d) Show how the garbage producing CX can be corrected by uncomputation."
   ]
  },
  {
   "cell_type": "markdown",
   "metadata": {},
   "source": [
    "a) \n",
    "\n",
    "$\\newcommand{\\ket}[1]{\\left|{#1}\\right\\rangle}$\n",
    "\n",
    "| Stage  | Statevector of the system |\n",
    "|---|---|\n",
    "| After Z on $Q_0$ and X on $Q_1$  | $\\frac 1 {\\sqrt2} \\begin{pmatrix}0\\\\0\\\\0\\\\0\\\\1\\\\-1\\\\0\\\\0\\end{pmatrix}$ |\n",
    "| After CNOT controlled on $Q_0$ and targetted on $Q_2$  |  $\\frac 1 {\\sqrt2} \\begin{pmatrix}0\\\\-1\\\\0\\\\0\\\\1\\\\0\\\\0\\\\0\\end{pmatrix}$  |\n",
    "| After H on $Q_0$ and on $Q_2$  |  $\\frac 1 {\\sqrt2} \\begin{pmatrix}0\\\\1\\\\0\\\\0\\\\-1\\\\0\\\\0\\\\0\\end{pmatrix}$  |\n",
    "\n",
    "As the only possible outcomes are 0 on $Q_0$ and 1 on $Q_2$, or 1 on $Q_0$ and 0 on $Q_2$, the only possible outcome for the XOR at the end is 1.\n"
   ]
  },
  {
   "cell_type": "markdown",
   "metadata": {},
   "source": [
    "b) To show that the circuit behaves like a CNOT with some garbage, I am going to show each possible case individually: \n",
    "\n",
    "With $Q_0 = \\ket 0$ and $Q_2 = \\ket 0$:  \n",
    "\n",
    "| Stage  | $Q_0$ | $Q_1$ | $Q_2$ |\n",
    "|---|---|---|---|\n",
    "| Start | $\\ket0$ | $\\ket0$  | $\\ket0$ |\n",
    "| After first $C_X$ | $\\ket0$ | $\\ket0$  | $\\ket0$ |\n",
    "| After second $C_X$ | $\\ket0$ | $\\ket0$  | $\\ket0$ |\n",
    "\n",
    "With $Q_0 = \\ket 1$ and $Q_2 = \\ket 0$:  \n",
    "\n",
    "| Stage  | $Q_0$ | $Q_1$ | $Q_2$ |\n",
    "|---|---|---|---|\n",
    "| Start | $\\ket1$ | $\\ket0$  | $\\ket0$ |\n",
    "| After first $C_X$ | $\\ket1$ | $\\ket1$  | $\\ket0$ |\n",
    "| After second $C_X$ | $\\ket1$ | $\\ket1$  | $\\ket1$ |\n",
    "\n",
    "With $Q_0 = \\ket 0$ and $Q_2 = \\ket 1$:  \n",
    "\n",
    "| Stage  | $Q_0$ | $Q_1$ | $Q_2$ |\n",
    "|---|---|---|---|\n",
    "| Start | $\\ket0$ | $\\ket0$  | $\\ket1$ |\n",
    "| After first $C_X$ | $\\ket0$ | $\\ket0$  | $\\ket1$ |\n",
    "| After second $C_X$ | $\\ket0$ | $\\ket0$  | $\\ket1$ |\n",
    "\n",
    "With $Q_0 = \\ket 1$ and $Q_2 = \\ket 1$:  \n",
    "\n",
    "| Stage  | $Q_0$ | $Q_1$ | $Q_2$ |\n",
    "|---|---|---|---|\n",
    "| Start | $\\ket1$ | $\\ket0$  | $\\ket1$ |\n",
    "| After first $C_X$ | $\\ket1$ | $\\ket1$  | $\\ket1$ |\n",
    "| After second $C_X$ | $\\ket0$ | $\\ket1$  | $\\ket0$ |\n",
    "\n",
    "So this circuit acts as a CNOT between the qubits $Q_0$ and $Q_2$, with the sideffect of mirroring the state of $Q_0$ on $Q_1$.\n"
   ]
  },
  {
   "cell_type": "markdown",
   "metadata": {},
   "source": [
    "c) Replacing CX(0,2) with CX(0,1)CX(1,2):\n",
    "\n",
    "| Stage  | Statevector of the system |\n",
    "|---|---|\n",
    "| After Z on $Q_0$ and X on $Q_1$  | $\\frac 1 {\\sqrt2} \\begin{pmatrix}0\\\\0\\\\0\\\\0\\\\1\\\\-1\\\\0\\\\0\\end{pmatrix}$ |\n",
    "| After CNOT controlled on $Q_0$ and targetted on $Q_2$  |  $\\frac 1 {\\sqrt2}  \\begin{pmatrix}0\\\\0\\\\0\\\\-1\\\\1\\\\0\\\\0\\\\0\\end{pmatrix}$  |\n",
    "| After H on $Q_0$ and on $Q_2$  |  $\\frac 1 {\\sqrt2} \\begin{pmatrix}0\\\\0\\\\0\\\\-1\\\\1\\\\0\\\\0\\\\0\\end{pmatrix}$  |\n",
    "\n",
    "Using these results we can see that we either get $\\ket {100}$ or $\\ket {101}$ each with a probability of $\\frac12$, thus the output of the XOR at the end is either a $1$ or a $0$ 50% of the time."
   ]
  },
  {
   "attachments": {
    "b3739ad6-54aa-4c7e-811b-6f319ee7aedc.png": {
     "image/png": "[encoded data removed]"
    }
   },
   "cell_type": "markdown",
   "metadata": {},
   "source": [
    "d) By adding a CNOT controlled on $Q_0$ and targeted on $Q_1$ after the second CNOT, we can solve this problem and end up with the same statevector at the end. This is the circuit I ended up with:\n",
    "\n",
    "![image.png](attachment:b3739ad6-54aa-4c7e-811b-6f319ee7aedc.png)"
   ]
  },
  {
   "cell_type": "code",
   "execution_count": null,
   "metadata": {},
   "outputs": [],
   "source": []
  }
 ],
 "metadata": {
  "colab": {
   "collapsed_sections": [],
   "name": "Exercise_4.ipynb",
   "provenance": [],
   "version": "0.3.2"
  },
  "kernelspec": {
   "display_name": "Python 3 (ipykernel)",
   "language": "python",
   "name": "python3"
  },
  "language_info": {
   "codemirror_mode": {
    "name": "ipython",
    "version": 3
   },
   "file_extension": ".py",
   "mimetype": "text/x-python",
   "name": "python",
   "nbconvert_exporter": "python",
   "pygments_lexer": "ipython3",
   "version": "3.10.4"
  },
  "latex_envs": {
   "LaTeX_envs_menu_present": true,
   "autoclose": true,
   "autocomplete": true,
   "bibliofile": "biblio.bib",
   "cite_by": "apalike",
   "current_citInitial": 1,
   "eqLabelWithNumbers": true,
   "eqNumInitial": 1,
   "hotkeys": {
    "equation": "Ctrl-E",
    "itemize": "Ctrl-I"
   },
   "labels_anchors": false,
   "latex_user_defs": false,
   "report_style_numbering": false,
   "user_envs_cfg": false
  }
 },
 "nbformat": 4,
 "nbformat_minor": 4
}
