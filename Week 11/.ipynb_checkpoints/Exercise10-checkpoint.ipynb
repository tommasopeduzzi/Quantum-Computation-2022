{
 "cells": [
  {
   "cell_type": "markdown",
   "metadata": {
    "colab_type": "text",
    "id": "pmm5uV8cQQN6"
   },
   "source": [
    "# Exercise 10"
   ]
  },
  {
   "cell_type": "markdown",
   "metadata": {},
   "source": [
    "## 1. Shor Code\n",
    "\n",
    "The Shor (or 9 Qubit) code is a method for quantum error correction based on the classical repetition code. Here we will consider the version where a logical qubit is first stored in three physical qubits using the encoding\n",
    "$$\n",
    "|+\\rangle_3 = |+++\\rangle, \\,\\,\\, |-\\rangle_3 = |---\\rangle.\n",
    "$$\n",
    "This protects against errors that try to flip $|+\\rangle_3$ to $|-\\rangle_3$, and vice-versa. But the corresponding errors for the $Z$ basis states\n",
    "\n",
    "\n",
    "$$\n",
    "|0\\rangle_3 = \\frac{1}{\\sqrt{2}} (|+++\\rangle+|---\\rangle), \\,\\,\\, |1\\rangle_3 = \\frac{1}{\\sqrt{2}} (|+++\\rangle-|---\\rangle)\n",
    "$$\n",
    "\n",
    "become more likely. To deal with this we take three of these logical qubits and use them (like the original physical qubits) to encode a single logical qubit. This uses the encoding:\n",
    "\n",
    "$$\n",
    "|0\\rangle_9 = |0\\rangle_3 \\otimes |0\\rangle_3 \\otimes |0\\rangle_3, \\,\\,\\, |1\\rangle_9 = |1\\rangle_3 \\otimes |1\\rangle_3 \\otimes |1\\rangle_3.\n",
    "$$\n",
    "\n",
    "The end result is then a code that stores one logical qubit in 9 physical qubits, with stabilizer states\n",
    "\n",
    "$$\n",
    "|0\\rangle_9 = \\left\\lbrack \\frac{1}{\\sqrt{2}} \\left(|+++\\rangle  +|---\\rangle \\right) \\right\\rbrack^{\\otimes 3}, \\,\\,\\, |1\\rangle_9 = \\left\\lbrack\\frac{1}{\\sqrt{2}}\\left(|+++\\rangle-|---\\rangle\\right) \\right\\rbrack^{\\otimes 3}\n",
    "$$\n",
    "\n",
    "a) Find operators that act as $X$ and $Z$ on the logical qubit. What are the minimal number of qubits these act on? (Find logical operators. What is $d$?)\n",
    "\n",
    "b) Suppose $\\sigma_x$ errors occur indepen'dently on each qubit with probability $p_x$. What is the probability $P_x$ that a logical $X$ occurs after syndrome measurement and error correction? For simplicity you can determine this only up to lowest order in $p_x$.\n",
    "\n",
    "c) Similarly, what is the probability $P_z$ of $Z$ errors, given that $\\sigma_z$ errors occur with probability $p_z$?  For simplicity you can determine this only up to lowest order in $p_z$."
   ]
  },
  {
   "cell_type": "markdown",
   "metadata": {},
   "source": [
    "Hints: \n",
    "1) Review stabilizer codes below video of extra lecture (github/extra_resources/stabilzer_formation.pdf) Check conditions of stabilizers.\n",
    "Stabilizers are:\n",
    "$s_1 = \\sigma_X¹  \\sigma_X²$ and $s_2 = \\sigma_X²\\sigma_X³$\n",
    "Logical Z can be defined as $\\sigma_z¹\\sigma_z²\\sigma_z³$\n",
    "and logical X can be defined as $X =\\sigma_Z¹$(or any qubit) for $|+\\rangle_3 = |+++\\rangle$ and $|-\\rangle =|---\\rangle$$. If we change the basis this is also reversed.\n",
    "\n",
    "For a) b) c):\n",
    "a) use the results from the 3 qubits repetition code to get to the result for the 9-qubit\n",
    "b) Logical error happens when two physical error happen. First calculate  \n",
    "Result will be $P_x = \\alpha p_x²$ $P_z = \\beta p_z ²$ Goal is to find alpha and beta"
   ]
  },
  {
   "cell_type": "markdown",
   "metadata": {},
   "source": [
    "1)\n",
    "a) To implement a $X$ on the first logical qubits, we have to $|0\\rangle_3 = \\frac{1}{\\sqrt{2}} (|+++\\rangle+|---\\rangle)\\rightarrow \\frac{1}{\\sqrt{2}} (|+++\\rangle-|---\\rangle)$ and $|1\\rangle_3 = \\frac{1}{\\sqrt{2}} (|+++\\rangle-|---\\rangle) \\rightarrow \\frac{1}{\\sqrt{2}} (|+++\\rangle+|---\\rangle)$. To do this we can apply a phase of -1 to one of the $|-\\rangle$ states. This can be done by a single $X$ on any of the qubits.\n",
    "We need to apply this to every first logical qubit to perform $|1\\rangle_9 = |1\\rangle_3 \\otimes |1\\rangle_3 \\otimes|1\\rangle_3\\rightarrow |0\\rangle_3 \\otimes |0\\rangle_3 \\otimes|0\\rangle_3 = |0\\rangle_9$ and $|0\\rangle_9 = |0\\rangle_3 \\otimes |0\\rangle_3 \\otimes|0\\rangle_3\\rightarrow |1\\rangle_3 \\otimes |1\\rangle_3 \\otimes|1\\rangle_3 = |1\\rangle_9$ Therefore, the logical X on the logical qubit is $X_9 = \\sigma^{n,m}_x\\sigma^{k,j}_x \\sigma^{l,i}_x $, where $k,l,i,j,n,m \\in \\{0,1,2\\}$ and $k \\neq l\\neq n$ and $\\sigma^{l,i}_x = \\sigma^{3l+i}_x$ is a $X$ on the physical qubit $i$ of the first logical qubit $l$. This operation has to act on 3 qubits, so $d=3$ \n",
    "\n",
    "As the logical $Z$ on the first logical qubit can obviously be defined as $Z_3 = \\sigma_z \\otimes \\sigma_z \\otimes \\sigma_z$, and we want to perform the operation \n",
    "\n",
    "$|+\\rangle_9 =  \\frac1{\\sqrt2} (|0\\rangle_9 + |1\\rangle_9) =  \\frac1{\\sqrt2} (|0\\rangle_3\\otimes|0\\rangle_3\\otimes|0\\rangle_3 +|1\\rangle_3\\otimes|1\\rangle_3\\otimes|1\\rangle_3) \\leftrightarrow   \\frac1{\\sqrt2} (|0\\rangle_9 - |1\\rangle_9) = \\frac1{\\sqrt2} (|0\\rangle_3\\otimes|0\\rangle_3\\otimes|0\\rangle_3 - |1\\rangle_3\\otimes|1\\rangle_3\\otimes|1\\rangle_3) = |-\\rangle_9 $, we just have to apply one of these $Z_3$s to any one of the first logical qubits to invert the phase of the $|1\\rangle_3$ component. Therefore we can define $Z_9 = \\sigma^{l, 0}_z \\sigma^{l, 1}_z \\sigma^{l, 2}_z $, where $l\\in {0,1,2}$ and $\\sigma^{l,k}_z$ means to apply $Z$ to the $k$th physical qubit of the $l$th first logical qubit. This operation has to act on 3 qubits, so $d=3$ "
   ]
  },
  {
   "cell_type": "markdown",
   "metadata": {},
   "source": [
    "b) Above we saw that to perform a logical X, we need to act on $d=3$ qubits. In fact, this can be reduced to $d=2$, because if two of the three first logical qubits get flipped, the decoding and correction algorithm will see this as an error on the third qubit and correct accordingly. This will cause a logical bit flip.\n",
    "\n",
    "The probability of the first logical qubit enduring a bit flip $p_x'$is $p_x' = \\binom31 p_x$, as you only need to flip one qubit and you can select one out of three. This has to happen to two of our three first logical qubits to cause a bitflip to the final logical qubit. Therefore the probability $P_x$ of a bitflip happening to the whole system is $$P_X \\approx  \\binom{3}{2} p_x' ² = 3 \\left(\\binom31p_x\\right)² = 27 p_x²$$ One could consider the possibility where things happen twice and so on, but that complicates things."
   ]
  },
  {
   "cell_type": "markdown",
   "metadata": {},
   "source": [
    "c) We use the same principle as in part b): The probability of having a phase flip on the first logical qubit $p_z'$ is $p_z' = \\binom32 p_z²$, because it has to happen on two out of the three of the physical qubits. The phase flip on the final logical qubit only occurs if one of the three first logical qubits had a phase flip. Thus the final probability $P_Z$ is $$P_Z \\approx \\binom31 p_z'= \\binom31\\binom32 p_z² = 9 p_z²$$ Again one could consider other factors like when things happen more than once, but that complicates things."
   ]
  },
  {
   "cell_type": "markdown",
   "metadata": {
    "colab_type": "text",
    "id": "CJyxxSDUQQN9"
   },
   "source": [
    "## 2.  Concatenated Shor Code\n",
    "\n",
    "In order to increase the performance of a code we can use the concept of concatenation. We will now consider this process for the Shor code.\n",
    "\n",
    "Let us describe physical qubits as level-0 qubits, and suppose we have $n$ of them. We can use these to encode $n/9$ logical qubits, which we call level-1 qubits. These will have lower probabilities for noise than the level-0 qubits, but maybe not as low as we require. We can then use the level-1 qubits as if they were physical qubits, using them to encode $n/9^2$ level-2 qubits. This procedure can then be continued as many times as required, with the level-$(l-1)$ qubits always used as the physical qubits of the Shor codes that encode the level-$l$ qubits.\n",
    "\n",
    "a) In order to encode a single level-$l$ qubit, for arbitrary $l$, what is the number $n(l)$ of level-0 qubits required?\n",
    "\n",
    "b) The standard Shor code has distance $d=3$. What is the distance of a level-$l$ concatenated Shor code?\n",
    "\n",
    "c) We will use $p_x^{(l)}$ to denote the bit flip error probility at level-$l$. The level-0 error rate is that of the phyical qubit errors: $p_x^{(0)}=p_x$. The level-1 error rate is that of the logical qubits of the 9 qubit code: $p_x^{(1)}=P_x$. Use your result from question 1(b) to show that $p_x^{(l-1)}$ and $p_x^{(l)}$ are related by\n",
    "$$\n",
    "p_x^{(l)} < 27 \\left( p_x^{(l-1)} \\right)^2.\n",
    "$$\n",
    "\n",
    "d) Show that $p_x^{(l)}$ decays exponentially with $n(l)^\\beta$ when $p_x < 1/27$, and find $\\beta$.\n",
    "\n",
    "This is a proof of the `threshold theorem' for this code and error model. As long as the physical noise rate $p_x$ is below the threshold value of $1/27$ ( and $p_z$ is below its threshold of $1/9$), concatenation of the Shor code can achieve arbitrarily low error rates.\n"
   ]
  },
  {
   "cell_type": "markdown",
   "metadata": {},
   "source": [
    "B) no rigourous proof needed, just motivate your result\n",
    "C) To get the \"<\" you need to include also the next-leading order in $p_x$.\n",
    "D) Decays exponentially with $n(l)^\\beta$ means $P_X^l < ...p_x^{n(l)^\\beta}$"
   ]
  },
  {
   "cell_type": "markdown",
   "metadata": {},
   "source": [
    "2)\n",
    "a) To encode a single level of qubits, we need $9¹$ qubits. If we were going to use this qubit in another level, we would need $9$ of these codes and thus $9\\cdot9 = 9²$ qubits. Following this logic, for any level $l$ $$n(l) = 9^l$$ qubits are needed to encode one logical qubit at level $l$."
   ]
  },
  {
   "cell_type": "markdown",
   "metadata": {},
   "source": [
    "b) To act on a Shors code of $l =2$ one might think of it being a level 1 system, but having the physical qubits represented as an additional Shor's code. Therefore, one has to act on, again, $d=3$ \"encoded physical\" qubits, which themselves have $d=3$. Thus for any level $l$, $$d = 3^l$$"
   ]
  },
  {
   "cell_type": "markdown",
   "metadata": {},
   "source": [
    "c) We know from 1b) that $p^{l}_x \\approx 27 (p^{l-1}_x)² $, but we can make this a bit preciser by accounting for a different situation and adding the next term: $p^{l}_x \\approx 27 (p^{l-1}_x)² - \\frac28(p^{l-1}_x)2$. The last term describes the situation when the second bitflip happens on the same logical qubit as the first, effectively undoing itself. Now it's trivial to see that $$p^{l}_x \\approx 27 (p^{l-1}_x)² - \\frac28(p^{l-1}_x) < 27 (p^{l-1}_x)²$$"
   ]
  },
  {
   "cell_type": "markdown",
   "metadata": {},
   "source": [
    "d) $$P_0 = p_x$$\n",
    "$$P_l = 27 P_{l-1}²$$\n",
    "$$P_l = 27^{2^l-1} p_x^{2^l} = \\frac 1{27} (27p_x)^{2^l} = \\frac 1{27} (27p_x)^{2l}$$\n",
    "if $p_x < \\frac1{27}$, then $27p_x < 0$ and therefore $\\lim\\limits_{l \\to \\infty} \\frac 1{27} (27p_x)^{2^l}  = 0$ and therefore this decays. \n",
    "To find $\\beta$ we have to solve the following equation:\n",
    "$$n(l)^\\beta = 9^{\\beta l}= 2^l$$\n"
   ]
  },
  {
   "cell_type": "markdown",
   "metadata": {},
   "source": []
  }
 ],
 "metadata": {
  "colab": {
   "collapsed_sections": [],
   "name": "Exercise_4.ipynb",
   "provenance": [],
   "version": "0.3.2"
  },
  "kernelspec": {
   "display_name": "Python 3 (ipykernel)",
   "language": "python",
   "name": "python3"
  },
  "language_info": {
   "codemirror_mode": {
    "name": "ipython",
    "version": 3
   },
   "file_extension": ".py",
   "mimetype": "text/x-python",
   "name": "python",
   "nbconvert_exporter": "python",
   "pygments_lexer": "ipython3",
   "version": "3.10.4"
  },
  "latex_envs": {
   "LaTeX_envs_menu_present": true,
   "autoclose": true,
   "autocomplete": true,
   "bibliofile": "biblio.bib",
   "cite_by": "apalike",
   "current_citInitial": 1,
   "eqLabelWithNumbers": true,
   "eqNumInitial": 1,
   "hotkeys": {
    "equation": "Ctrl-E",
    "itemize": "Ctrl-I"
   },
   "labels_anchors": false,
   "latex_user_defs": false,
   "report_style_numbering": false,
   "user_envs_cfg": false
  }
 },
 "nbformat": 4,
 "nbformat_minor": 1
}
