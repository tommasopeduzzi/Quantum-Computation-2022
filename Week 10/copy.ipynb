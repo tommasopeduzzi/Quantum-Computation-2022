{
 "cells": [
  {
   "cell_type": "markdown",
   "metadata": {},
   "source": [
    "# Exercise 9\n"
   ]
  },
  {
   "cell_type": "markdown",
   "metadata": {},
   "source": [
    "## 1. Grover's algorithm for two qubits\n",
    "\n",
    "(a) Implement an oracle and diffusion operator to search all strings of two bits to find `01`.\n",
    "\n",
    "(b) Run the algorithm, and determine how many iterations are required to output `01` with high probability."
   ]
  },
  {
   "cell_type": "markdown",
   "metadata": {},
   "source": [
    "1) check qiskit textbook\n",
    "\n",
    "2) Find oracle and diffusion operator, to make \"grover-part\" and repeat is as often as possible.\n",
    "Hint: Add step at the beginning, that only has effects when repeating.\n",
    "\n",
    "3) High probability typically means >90%. So find how many grover steps you need to perform to reach this rate.\n",
    "\n",
    "Optional: Add noise using other chapter linked in Grover's lecture."
   ]
  },
  {
   "cell_type": "markdown",
   "metadata": {},
   "source": [
    "Our oracle looks like this: $$U_\\omega = (I - |01\\rangle\\langle01|) - |01\\rangle\\langle01| = \\begin{pmatrix}\n",
    "1&&0&&0&&0\\\\\n",
    "0&&-1&&0&&0\\\\\n",
    "0&&0&&1&&0\\\\\n",
    "0&&0&&0&&1\\\\\n",
    "\\end{pmatrix} = CZ^{1,0}$$ "
   ]
  },
  {
   "cell_type": "markdown",
   "metadata": {},
   "source": [
    "## 2. Grover's algorithm for three qubits\n",
    "\n",
    "(a) Implement an oracle and diffusion operator to search all strings of three bits to find `100`.\n",
    "\n",
    "(b) Run the algorithm, and determine how many iterations are required to output `100` with high probability."
   ]
  },
  {
   "cell_type": "markdown",
   "metadata": {},
   "source": [
    "Hint: Use ccz or ccx this time. "
   ]
  }
 ],
 "metadata": {
  "kernelspec": {
   "display_name": "Python 3 (ipykernel)",
   "language": "python",
   "name": "python3"
  },
  "language_info": {
   "codemirror_mode": {
    "name": "ipython",
    "version": 3
   },
   "file_extension": ".py",
   "mimetype": "text/x-python",
   "name": "python",
   "nbconvert_exporter": "python",
   "pygments_lexer": "ipython3",
   "version": "3.10.4"
  },
  "latex_envs": {
   "LaTeX_envs_menu_present": true,
   "autoclose": true,
   "autocomplete": true,
   "bibliofile": "biblio.bib",
   "cite_by": "apalike",
   "current_citInitial": 1,
   "eqLabelWithNumbers": true,
   "eqNumInitial": 1,
   "hotkeys": {
    "equation": "Ctrl-E",
    "itemize": "Ctrl-I"
   },
   "labels_anchors": false,
   "latex_user_defs": false,
   "report_style_numbering": false,
   "user_envs_cfg": false
  }
 },
 "nbformat": 4,
 "nbformat_minor": 4
}
