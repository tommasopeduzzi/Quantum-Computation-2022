{
 "cells": [
  {
   "cell_type": "markdown",
   "metadata": {},
   "source": [
    "# Exercise 9\n"
   ]
  },
  {
   "cell_type": "markdown",
   "metadata": {},
   "source": [
    "## 1. Grover's algorithm for two qubits\n",
    "\n",
    "(a) Implement an oracle and diffusion operator to search all strings of two bits to find `01`.\n",
    "\n",
    "(b) Run the algorithm, and determine how many iterations are required to output `01` with high probability."
   ]
  },
  {
   "cell_type": "markdown",
   "metadata": {},
   "source": [
    "1) check qiskit textbook\n",
    "\n",
    "2) Find oracle and diffusion operator, to make \"grover-part\" and repeat is as often as possible.\n",
    "Hint: Add step at the beginning, that only has effects when repeating.\n",
    "\n",
    "3) High probability typically means >90%. So find how many grover steps you need to perform to reach this rate.\n",
    "\n",
    "Optional: Add noise using other chapter linked in Grover's lecture."
   ]
  },
  {
   "cell_type": "markdown",
   "metadata": {},
   "source": [
    "Our oracle looks like this: $$U_\\omega = (I - |01\\rangle\\langle01|) - |01\\rangle\\langle01| = \\begin{pmatrix}\n",
    "1&&0&&0&&0\\\\\n",
    "0&&-1&&0&&0\\\\\n",
    "0&&0&&1&&0\\\\\n",
    "0&&0&&0&&1\\\\\n",
    "\\end{pmatrix} = CZ^{1,0}$$ "
   ]
  },
  {
   "cell_type": "code",
   "execution_count": 13,
   "metadata": {},
   "outputs": [],
   "source": [
    "from qiskit import *\n",
    "sim = Aer.get_backend('aer_simulator')\n",
    "from qiskit.visualization import array_to_latex, circuit_drawer, plot_histogram\n",
    "from qiskit.extensions import *\n",
    "from qiskit.providers.ibmq import least_busy"
   ]
  },
  {
   "cell_type": "code",
   "execution_count": 14,
   "metadata": {},
   "outputs": [],
   "source": [
    "N = 2\n",
    "qc = QuantumCircuit(2)"
   ]
  },
  {
   "cell_type": "code",
   "execution_count": 15,
   "metadata": {},
   "outputs": [],
   "source": [
    "def diffuser(n_qubits):\n",
    "    diffuser = QuantumCircuit(n_qubits)\n",
    "    diffuser.h(list(range(n_qubits)))\n",
    "    diffuser.x(list(range(n_qubits)))\n",
    "    diffuser.h(n_qubits-1)\n",
    "    diffuser.mct(list(range(n_qubits-1)), n_qubits-1)\n",
    "    diffuser.h(n_qubits-1)\n",
    "    diffuser.x(list(range(n_qubits)))\n",
    "    diffuser.h(list(range(n_qubits)))\n",
    "    diffuser = diffuser.to_gate()\n",
    "    diffuser.name = \"Diffuser\"\n",
    "    return diffuser"
   ]
  },
  {
   "cell_type": "code",
   "execution_count": 16,
   "metadata": {},
   "outputs": [],
   "source": [
    "u_f = UnitaryGate([[1,0,0,0],\n",
    "                   [0,-1,0,0], \n",
    "                   [0,0,1,0],\n",
    "                   [0,0,0,1]])"
   ]
  },
  {
   "cell_type": "code",
   "execution_count": 17,
   "metadata": {},
   "outputs": [
    {
     "data": {
      "image/png": "[encoded data removed]",
      "text/plain": [
       "<Figure size 538.279x204.68 with 1 Axes>"
      ]
     },
     "execution_count": 17,
     "metadata": {},
     "output_type": "execute_result"
    }
   ],
   "source": [
    "qc.h(list(range(N)))\n",
    "qc.unitary(u_f, list(range(N)), 'Uf')\n",
    "qc.append(diffuser(N), list(range(N)))\n",
    "qc.measure_all()\n",
    "qc.draw(output='mpl')"
   ]
  },
  {
   "cell_type": "code",
   "execution_count": 18,
   "metadata": {},
   "outputs": [],
   "source": [
    "simulator = Aer.get_backend('aer_simulator')\n",
    "circ = transpile(qc, sim)"
   ]
  },
  {
   "cell_type": "code",
   "execution_count": 19,
   "metadata": {},
   "outputs": [
    {
     "data": {
      "image/png": "[encoded data removed]",
      "text/plain": [
       "<Figure size 504x360 with 1 Axes>"
      ]
     },
     "execution_count": 19,
     "metadata": {},
     "output_type": "execute_result"
    }
   ],
   "source": [
    "result = sim.run(circ).result()\n",
    "counts = result.get_counts(circ)\n",
    "plot_histogram(counts)"
   ]
  },
  {
   "cell_type": "markdown",
   "metadata": {},
   "source": [
    "## 2. Grover's algorithm for three qubits\n",
    "\n",
    "(a) Implement an oracle and diffusion operator to search all strings of three bits to find `100`.\n",
    "\n",
    "(b) Run the algorithm, and determine how many iterations are required to output `100` with high probability."
   ]
  },
  {
   "cell_type": "markdown",
   "metadata": {},
   "source": [
    "Hint: Use ccz or ccx this time. "
   ]
  },
  {
   "cell_type": "code",
   "execution_count": 28,
   "metadata": {},
   "outputs": [],
   "source": [
    "N = 3\n",
    "qc = QuantumCircuit(N)"
   ]
  },
  {
   "cell_type": "code",
   "execution_count": 29,
   "metadata": {},
   "outputs": [],
   "source": [
    "u_f = UnitaryGate([[1, 0, 0, 0, 0, 0, 0, 0],\n",
    "                   [0, 1, 0, 0, 0, 0, 0, 0],\n",
    "                   [0, 0, 1, 0, 0, 0, 0, 0],\n",
    "                   [0, 0, 0, 1, 0, 0, 0, 0],\n",
    "                   [0, 0, 0, 0,-1, 0, 0, 0],\n",
    "                   [0, 0, 0, 0, 0, 1, 0, 0],\n",
    "                   [0, 0, 0, 0, 0, 0, 1, 0],\n",
    "                   [0, 0, 0, 0, 0, 0, 0, 1]]) # Unitary to apply phase of -1 to |100>"
   ]
  },
  {
   "cell_type": "code",
   "execution_count": 30,
   "metadata": {},
   "outputs": [
    {
     "data": {
      "image/png": "[encoded data removed]",
      "text/plain": [
       "<Figure size 779.079x264.88 with 1 Axes>"
      ]
     },
     "execution_count": 30,
     "metadata": {},
     "output_type": "execute_result"
    }
   ],
   "source": [
    "qc.h(list(range(N))) # Put qubits into superpositions of all numbers\n",
    "for i in range(2):\n",
    "    qc.unitary(u_f, list(range(N)), 'Uf')\n",
    "    qc.append(diffuser(N), list(range(N)))\n",
    "qc.measure_all()\n",
    "qc.draw(output='mpl')"
   ]
  },
  {
   "cell_type": "code",
   "execution_count": 31,
   "metadata": {},
   "outputs": [],
   "source": [
    "simulator = Aer.get_backend('aer_simulator')\n",
    "circ = transpile(qc, sim)"
   ]
  },
  {
   "cell_type": "code",
   "execution_count": 32,
   "metadata": {
    "scrolled": true
   },
   "outputs": [
    {
     "data": {
      "image/png": "[encoded data removed]",
      "text/plain": [
       "<Figure size 504x360 with 1 Axes>"
      ]
     },
     "execution_count": 32,
     "metadata": {},
     "output_type": "execute_result"
    }
   ],
   "source": [
    "result = sim.run(circ).result()\n",
    "counts = result.get_counts(circ)\n",
    "plot_histogram(counts)"
   ]
  },
  {
   "cell_type": "code",
   "execution_count": 33,
   "metadata": {},
   "outputs": [
    {
     "name": "stderr",
     "output_type": "stream",
     "text": [
      "ibmqfactory.load_account:WARNING:2022-05-06 15:50:53,510: Credentials are already in use. The existing account in the session will be replaced.\n"
     ]
    },
    {
     "name": "stdout",
     "output_type": "stream",
     "text": [
      "Running on current least busy device:  ibmq_quito\n"
     ]
    }
   ],
   "source": [
    "provider = IBMQ.load_account()\n",
    "provider = IBMQ.get_provider(\"ibm-q\")\n",
    "device = least_busy(provider.backends(filters=lambda x: x.configuration().n_qubits >= 3 and \n",
    "                                   not x.configuration().simulator and x.status().operational==True))\n",
    "print(\"Running on current least busy device: \", device)"
   ]
  },
  {
   "cell_type": "code",
   "execution_count": 34,
   "metadata": {},
   "outputs": [
    {
     "name": "stdout",
     "output_type": "stream",
     "text": [
      "Job Status: job has successfully run\n"
     ]
    }
   ],
   "source": [
    "from qiskit.tools.monitor import job_monitor\n",
    "transpiled_qc = transpile(qc, device, optimization_level=3)\n",
    "job = device.run(transpiled_qc)\n",
    "job_monitor(job, interval=2)"
   ]
  },
  {
   "cell_type": "code",
   "execution_count": 35,
   "metadata": {},
   "outputs": [
    {
     "data": {
      "image/png": "[encoded data removed]",
      "text/plain": [
       "<Figure size 504x360 with 1 Axes>"
      ]
     },
     "execution_count": 35,
     "metadata": {},
     "output_type": "execute_result"
    }
   ],
   "source": [
    "# Get the results from the computation\n",
    "results = job.result()\n",
    "answer = results.get_counts(qc)\n",
    "plot_histogram(answer)"
   ]
  },
  {
   "cell_type": "code",
   "execution_count": null,
   "metadata": {},
   "outputs": [],
   "source": []
  }
 ],
 "metadata": {
  "kernelspec": {
   "display_name": "Python 3 (ipykernel)",
   "language": "python",
   "name": "python3"
  },
  "language_info": {
   "codemirror_mode": {
    "name": "ipython",
    "version": 3
   },
   "file_extension": ".py",
   "mimetype": "text/x-python",
   "name": "python",
   "nbconvert_exporter": "python",
   "pygments_lexer": "ipython3",
   "version": "3.10.4"
  },
  "latex_envs": {
   "LaTeX_envs_menu_present": true,
   "autoclose": true,
   "autocomplete": true,
   "bibliofile": "biblio.bib",
   "cite_by": "apalike",
   "current_citInitial": 1,
   "eqLabelWithNumbers": true,
   "eqNumInitial": 1,
   "hotkeys": {
    "equation": "Ctrl-E",
    "itemize": "Ctrl-I"
   },
   "labels_anchors": false,
   "latex_user_defs": false,
   "report_style_numbering": false,
   "user_envs_cfg": false
  }
 },
 "nbformat": 4,
 "nbformat_minor": 4
}
